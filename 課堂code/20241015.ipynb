{
  "nbformat": 4,
  "nbformat_minor": 0,
  "metadata": {
    "colab": {
      "provenance": []
    },
    "kernelspec": {
      "name": "python3",
      "display_name": "Python 3"
    },
    "language_info": {
      "name": "python"
    }
  },
  "cells": [
    {
      "cell_type": "code",
      "execution_count": 3,
      "metadata": {
        "colab": {
          "base_uri": "https://localhost:8080/"
        },
        "id": "xb1y_-566bhh",
        "outputId": "33e289b2-16b7-4d88-c33f-f31d7dc5d5b9"
      },
      "outputs": [
        {
          "output_type": "stream",
          "name": "stdout",
          "text": [
            "10\n"
          ]
        }
      ],
      "source": [
        "x = 10\n",
        "#y = (x if x < 100 else x * 10)\n",
        "y = x if x < 100 else x * 10\n",
        "print(y)"
      ]
    },
    {
      "cell_type": "code",
      "source": [
        "x = 10\n",
        "y = 5\n",
        "y += ((x * 2) if (x < 100) else (x * 10))\n",
        "print(y)"
      ],
      "metadata": {
        "colab": {
          "base_uri": "https://localhost:8080/"
        },
        "id": "7qiT98QmBBWH",
        "outputId": "8ef3126b-2b28-4654-e6f9-a4d0f5302dde"
      },
      "execution_count": 6,
      "outputs": [
        {
          "output_type": "stream",
          "name": "stdout",
          "text": [
            "25\n"
          ]
        }
      ]
    },
    {
      "cell_type": "code",
      "source": [
        "x = 15\n",
        "y = 'Even' if x % 2 == 0 else 'Odd'\n",
        "print(y)"
      ],
      "metadata": {
        "colab": {
          "base_uri": "https://localhost:8080/"
        },
        "id": "8N6Rq3dBCxMy",
        "outputId": "067328ec-629f-4e32-f16d-fcbbb3138aac"
      },
      "execution_count": 8,
      "outputs": [
        {
          "output_type": "stream",
          "name": "stdout",
          "text": [
            "Odd\n"
          ]
        }
      ]
    },
    {
      "cell_type": "code",
      "source": [
        "x = 10\n",
        "print('Even' if x % 2 == 0 else 'Odd')"
      ],
      "metadata": {
        "colab": {
          "base_uri": "https://localhost:8080/"
        },
        "id": "zIe8THxnDisE",
        "outputId": "60106ae7-3c26-4e3d-8493-d1a30132ab00"
      },
      "execution_count": 10,
      "outputs": [
        {
          "output_type": "stream",
          "name": "stdout",
          "text": [
            "Even\n"
          ]
        }
      ]
    },
    {
      "cell_type": "code",
      "source": [
        "t = input()\n",
        "#if t == t[::-1]:\n",
        "#  print('%s is a palindrome.'%t)\n",
        "#else:\n",
        "#  print('%s is not a palindrome.'%t)\n",
        "#print('%s is a palindrome.'%t) if t == t[::-1] else print('%s is not a palindrome.'%t)\n",
        "print('%s is%s a palindrome.'%(t, '' if t == t[::-1] else ' not'))"
      ],
      "metadata": {
        "colab": {
          "base_uri": "https://localhost:8080/"
        },
        "id": "En1-yKhIEAD1",
        "outputId": "6db037cf-5417-464c-fe0b-e3439a26b0e8"
      },
      "execution_count": 26,
      "outputs": [
        {
          "output_type": "stream",
          "name": "stdout",
          "text": [
            "abcd\n",
            "abcd is not a palindrome.\n"
          ]
        }
      ]
    },
    {
      "cell_type": "code",
      "source": [
        "y = print('hello')\n",
        "print(y)"
      ],
      "metadata": {
        "colab": {
          "base_uri": "https://localhost:8080/"
        },
        "id": "ayFsF_BAKIwA",
        "outputId": "0c93c36c-1d2f-4fb5-a943-7e0ddb37e613"
      },
      "execution_count": 27,
      "outputs": [
        {
          "output_type": "stream",
          "name": "stdout",
          "text": [
            "hello\n",
            "None\n"
          ]
        }
      ]
    },
    {
      "cell_type": "code",
      "source": [
        "t = input()\n",
        "'''\n",
        "%s: string\n",
        "%d: integer -> string\n",
        "%f: float -> string\n",
        "'''\n",
        "print('abc %s %s xyz'%(t, t[::-1]) )"
      ],
      "metadata": {
        "colab": {
          "base_uri": "https://localhost:8080/"
        },
        "id": "BG9cVC2rEsT_",
        "outputId": "5b71cac2-660c-4408-9656-243cc18af38c"
      },
      "execution_count": 1,
      "outputs": [
        {
          "output_type": "stream",
          "name": "stdout",
          "text": [
            "DOG\n",
            "abc DOG GOD xyz\n"
          ]
        }
      ]
    },
    {
      "cell_type": "code",
      "source": [
        "t = input()\n",
        "\n",
        "'''\n",
        "%s: string\n",
        "%d: integer -> string\n",
        "%f: float -> string\n",
        "'''\n",
        "print(type(t))\n",
        "print('abc %d %d xyz'%(t, t * 10) )"
      ],
      "metadata": {
        "colab": {
          "base_uri": "https://localhost:8080/",
          "height": 211
        },
        "id": "OBaz1qIrFVBp",
        "outputId": "3753ed4d-2a81-4e3e-a827-fa35589f33e3"
      },
      "execution_count": 4,
      "outputs": [
        {
          "output_type": "stream",
          "name": "stdout",
          "text": [
            "12\n",
            "<class 'str'>\n"
          ]
        },
        {
          "output_type": "error",
          "ename": "TypeError",
          "evalue": "%d format: a real number is required, not str",
          "traceback": [
            "\u001b[0;31m---------------------------------------------------------------------------\u001b[0m",
            "\u001b[0;31mTypeError\u001b[0m                                 Traceback (most recent call last)",
            "\u001b[0;32m<ipython-input-4-a34440955c41>\u001b[0m in \u001b[0;36m<cell line: 9>\u001b[0;34m()\u001b[0m\n\u001b[1;32m      7\u001b[0m '''\n\u001b[1;32m      8\u001b[0m \u001b[0mprint\u001b[0m\u001b[0;34m(\u001b[0m\u001b[0mtype\u001b[0m\u001b[0;34m(\u001b[0m\u001b[0mt\u001b[0m\u001b[0;34m)\u001b[0m\u001b[0;34m)\u001b[0m\u001b[0;34m\u001b[0m\u001b[0;34m\u001b[0m\u001b[0m\n\u001b[0;32m----> 9\u001b[0;31m \u001b[0mprint\u001b[0m\u001b[0;34m(\u001b[0m\u001b[0;34m'abc %d %d xyz'\u001b[0m\u001b[0;34m%\u001b[0m\u001b[0;34m(\u001b[0m\u001b[0mt\u001b[0m\u001b[0;34m,\u001b[0m \u001b[0mt\u001b[0m \u001b[0;34m*\u001b[0m \u001b[0;36m10\u001b[0m\u001b[0;34m)\u001b[0m \u001b[0;34m)\u001b[0m\u001b[0;34m\u001b[0m\u001b[0;34m\u001b[0m\u001b[0m\n\u001b[0m",
            "\u001b[0;31mTypeError\u001b[0m: %d format: a real number is required, not str"
          ]
        }
      ]
    },
    {
      "cell_type": "code",
      "source": [
        "t = float(input())\n",
        "s = 'abc %f %f xyz'%(t, t * 0.1)\n",
        "print(s, type(s))"
      ],
      "metadata": {
        "colab": {
          "base_uri": "https://localhost:8080/"
        },
        "id": "lxdI_eo5GDwB",
        "outputId": "c6c4849f-9871-4189-f39f-0befde93807f"
      },
      "execution_count": 5,
      "outputs": [
        {
          "output_type": "stream",
          "name": "stdout",
          "text": [
            "1.5\n",
            "abc 1.500000 0.150000 xyz <class 'str'>\n"
          ]
        }
      ]
    },
    {
      "cell_type": "code",
      "source": [
        "t = float(input())\n",
        "s = 'abc %.3f %.5f xyz'%(t, t * 0.1)\n",
        "print(s, type(s))"
      ],
      "metadata": {
        "colab": {
          "base_uri": "https://localhost:8080/"
        },
        "id": "ytblacGJHAGi",
        "outputId": "23371de1-2746-4092-df4d-feb7722b697e"
      },
      "execution_count": 6,
      "outputs": [
        {
          "output_type": "stream",
          "name": "stdout",
          "text": [
            "0.12345\n",
            "abc 0.123 0.01235 xyz <class 'str'>\n"
          ]
        }
      ]
    },
    {
      "cell_type": "code",
      "source": [
        "x = 0.1235\n",
        "# 0.1000100010100101010101010101010101101  0101111100001011....\n",
        "# 0.1234999999999999999999\n",
        "s = '%0.3f'%x\n",
        "print(s)"
      ],
      "metadata": {
        "colab": {
          "base_uri": "https://localhost:8080/"
        },
        "id": "a8oFFo91HVPG",
        "outputId": "52830a97-9a46-4936-dcdb-5a225dd45d28"
      },
      "execution_count": 13,
      "outputs": [
        {
          "output_type": "stream",
          "name": "stdout",
          "text": [
            "0.123\n"
          ]
        }
      ]
    },
    {
      "cell_type": "code",
      "source": [
        "L = ['dog', 'cat', 'bird']\n",
        "s = ''\n",
        "for pet in L:\n",
        "    print(pet)\n",
        "    s += pet\n",
        "print(s)"
      ],
      "metadata": {
        "colab": {
          "base_uri": "https://localhost:8080/"
        },
        "id": "sfWBbt3vHna-",
        "outputId": "c9cd468f-3e6b-40c9-9a95-451ef30b6f18"
      },
      "execution_count": 29,
      "outputs": [
        {
          "output_type": "stream",
          "name": "stdout",
          "text": [
            "dog\n",
            "cat\n",
            "bird\n",
            "dogcatbird\n"
          ]
        }
      ]
    },
    {
      "cell_type": "code",
      "source": [
        "s = 'abcdefg'\n",
        "for x in s:\n",
        "    print(x)"
      ],
      "metadata": {
        "colab": {
          "base_uri": "https://localhost:8080/"
        },
        "id": "mVhN6O4gMhK9",
        "outputId": "0ee2c78f-0400-476c-db74-72a1a1dab4f0"
      },
      "execution_count": 30,
      "outputs": [
        {
          "output_type": "stream",
          "name": "stdout",
          "text": [
            "a\n",
            "b\n",
            "c\n",
            "d\n",
            "e\n",
            "f\n",
            "g\n"
          ]
        }
      ]
    },
    {
      "cell_type": "code",
      "source": [
        "L = [8, 9, 2, 5, 6, 4, 7]\n",
        "L = sorted(L)\n",
        "L1 = []\n",
        "L2 = []\n",
        "for x in L:\n",
        "  print(x)\n",
        "  if x % 2 == 0:\n",
        "    L2 += [x]\n",
        "  else:\n",
        "    L1 += [x]\n",
        "print(L1)\n",
        "print(L2)"
      ],
      "metadata": {
        "colab": {
          "base_uri": "https://localhost:8080/"
        },
        "id": "8bzuQplcM_Nz",
        "outputId": "e153c596-2b33-47b9-d50c-54c7fb0568ba"
      },
      "execution_count": 33,
      "outputs": [
        {
          "output_type": "stream",
          "name": "stdout",
          "text": [
            "2\n",
            "4\n",
            "5\n",
            "6\n",
            "7\n",
            "8\n",
            "9\n",
            "[5, 7, 9]\n",
            "[2, 4, 6, 8]\n"
          ]
        }
      ]
    },
    {
      "cell_type": "code",
      "source": [
        "L = [100, 97, 13, 100, 56, 97, 17, 32, 97, 56]\n",
        "P = []\n",
        "NP = []\n",
        "for n in L:\n",
        "    k = 2\n",
        "    if n in P or n in NP:\n",
        "        continue\n",
        "\n",
        "    while k < n:\n",
        "        if n % k == 0:\n",
        "            break\n",
        "        k += 1\n",
        "    if k == n:\n",
        "        P += [n]\n",
        "    else:\n",
        "        NP += [n]\n",
        "print('Prime numbers:', P)\n",
        "print('Non-prime numbers:', NP)\n"
      ],
      "metadata": {
        "colab": {
          "base_uri": "https://localhost:8080/"
        },
        "id": "UzRca7Z_OAQ_",
        "outputId": "a9dfe465-4ee7-4c09-fb58-c4cbf99a46ae"
      },
      "execution_count": 35,
      "outputs": [
        {
          "output_type": "stream",
          "name": "stdout",
          "text": [
            "Prime numbers: [97, 13, 17]\n",
            "Non-prime numbers: [100, 56, 32]\n"
          ]
        }
      ]
    },
    {
      "cell_type": "code",
      "source": [],
      "metadata": {
        "id": "OL4BmK71Rhpq"
      },
      "execution_count": null,
      "outputs": []
    }
  ]
}