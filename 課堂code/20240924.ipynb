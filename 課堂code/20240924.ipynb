{
  "nbformat": 4,
  "nbformat_minor": 0,
  "metadata": {
    "colab": {
      "provenance": []
    },
    "kernelspec": {
      "name": "python3",
      "display_name": "Python 3"
    },
    "language_info": {
      "name": "python"
    }
  },
  "cells": [
    {
      "cell_type": "code",
      "execution_count": null,
      "metadata": {
        "colab": {
          "base_uri": "https://localhost:8080/",
          "height": 228
        },
        "id": "9Qs0gmB83rrU",
        "outputId": "81bca45c-ceb7-4e66-ac8c-dbcc52c3a175"
      },
      "outputs": [
        {
          "output_type": "stream",
          "name": "stdout",
          "text": [
            "1\n"
          ]
        },
        {
          "output_type": "error",
          "ename": "NameError",
          "evalue": "name 'y' is not defined",
          "traceback": [
            "\u001b[0;31m---------------------------------------------------------------------------\u001b[0m",
            "\u001b[0;31mNameError\u001b[0m                                 Traceback (most recent call last)",
            "\u001b[0;32m<ipython-input-4-6e5ba68421a4>\u001b[0m in \u001b[0;36m<cell line: 5>\u001b[0;34m()\u001b[0m\n\u001b[1;32m      3\u001b[0m \u001b[0mprint\u001b[0m\u001b[0;34m(\u001b[0m\u001b[0mx\u001b[0m\u001b[0;34m)\u001b[0m        \u001b[0;31m# 1\u001b[0m\u001b[0;34m\u001b[0m\u001b[0;34m\u001b[0m\u001b[0m\n\u001b[1;32m      4\u001b[0m \u001b[0;34m\u001b[0m\u001b[0m\n\u001b[0;32m----> 5\u001b[0;31m \u001b[0my\u001b[0m \u001b[0;34m//=\u001b[0m \u001b[0;36m2\u001b[0m\u001b[0;34m\u001b[0m\u001b[0;34m\u001b[0m\u001b[0m\n\u001b[0m",
            "\u001b[0;31mNameError\u001b[0m: name 'y' is not defined"
          ]
        }
      ],
      "source": [
        "x = 10\n",
        "x //= x - 1 # x = x // (x - 1)\n",
        "print(x)\t# 1\n",
        "\n",
        "y //= 2 # y = y // 2\n"
      ]
    },
    {
      "cell_type": "code",
      "source": [
        "x = 1\n",
        "#x += x += 1\t# Invalid syntax\n",
        "#x *= (x /= 1)\t# Invalid syntax\n",
        "\n",
        "z = y = x = 10\n",
        "print(x, y, z)\n"
      ],
      "metadata": {
        "colab": {
          "base_uri": "https://localhost:8080/"
        },
        "id": "iVqzj0hi38yW",
        "outputId": "17f9128b-ca7a-492f-e22a-b2581fc1b3c7"
      },
      "execution_count": null,
      "outputs": [
        {
          "output_type": "stream",
          "name": "stdout",
          "text": [
            "10 10 10\n"
          ]
        }
      ]
    },
    {
      "cell_type": "code",
      "source": [
        "s = 'abc'\n",
        "s += 'def'\n",
        "print(s)\n",
        "s *= 3\n",
        "print(s)"
      ],
      "metadata": {
        "colab": {
          "base_uri": "https://localhost:8080/"
        },
        "id": "oRSbe6Lp5mat",
        "outputId": "d380793e-27f1-4650-c069-d8dcceab8b83"
      },
      "execution_count": null,
      "outputs": [
        {
          "output_type": "stream",
          "name": "stdout",
          "text": [
            "abcdef\n",
            "abcdefabcdefabcdef\n"
          ]
        }
      ]
    },
    {
      "cell_type": "code",
      "source": [
        "x = 123\n",
        "y = 456\n",
        "z = x + y\n",
        "print(z)\t\t# 579\n",
        "z = str(x) + ' + ' +  str(y) + ' = ' + str(z)\n",
        "print(z)\t\t# 123456\n",
        "# 123 + 456 = 579\n"
      ],
      "metadata": {
        "colab": {
          "base_uri": "https://localhost:8080/"
        },
        "id": "ZpvR4sdQ6Kms",
        "outputId": "efbd0fd7-79d4-4e27-f504-52f5cd063252"
      },
      "execution_count": null,
      "outputs": [
        {
          "output_type": "stream",
          "name": "stdout",
          "text": [
            "579\n",
            "123 + 456 = 579\n"
          ]
        }
      ]
    },
    {
      "cell_type": "code",
      "source": [
        "L = [10, 20, 30, 4, 5, 6]\n",
        "print(L[0])            # 10's index is 0; zero-based indexing\n",
        "print(L[3])            # 4\n",
        "L[2] += L[4] + L[5]\n",
        "print(L[2])            # 41\n",
        "print(L)\t\t #[10, 20, 41, 4, 5, 6]\n",
        "print(type(L))\n",
        "print(type(L[0]))\n",
        "n = len(L)\n",
        "print('#L', n)\n",
        "\n",
        "A = []\n",
        "print(A)\n",
        "print(type(A))\n",
        "n = len(A)\n",
        "print('#A', n)\n",
        "#print(A[0])"
      ],
      "metadata": {
        "colab": {
          "base_uri": "https://localhost:8080/"
        },
        "id": "DujdTghI63Li",
        "outputId": "5f3e5b08-f591-4128-e1ec-abba8ef81f88"
      },
      "execution_count": null,
      "outputs": [
        {
          "output_type": "stream",
          "name": "stdout",
          "text": [
            "10\n",
            "4\n",
            "41\n",
            "[10, 20, 41, 4, 5, 6]\n",
            "<class 'list'>\n",
            "<class 'int'>\n",
            "#L 6\n",
            "[]\n",
            "<class 'list'>\n",
            "#A 0\n"
          ]
        }
      ]
    },
    {
      "cell_type": "code",
      "source": [
        "L = [10, 20, 30, 4, 5, 6]\n",
        "print(L[5])\n",
        "#print(L[6])\n",
        "print(L[-1])\n",
        "print(L[-2])\n",
        "print(L[-3])\n",
        "print(L[-6])\n",
        "print(L[1.0])"
      ],
      "metadata": {
        "colab": {
          "base_uri": "https://localhost:8080/",
          "height": 297
        },
        "id": "CjyhN79x8twJ",
        "outputId": "b375e801-b0d1-46bc-c03e-7101cc4271b9"
      },
      "execution_count": null,
      "outputs": [
        {
          "output_type": "stream",
          "name": "stdout",
          "text": [
            "6\n",
            "6\n",
            "5\n",
            "4\n",
            "10\n"
          ]
        },
        {
          "output_type": "error",
          "ename": "TypeError",
          "evalue": "list indices must be integers or slices, not float",
          "traceback": [
            "\u001b[0;31m---------------------------------------------------------------------------\u001b[0m",
            "\u001b[0;31mTypeError\u001b[0m                                 Traceback (most recent call last)",
            "\u001b[0;32m<ipython-input-26-60ef80578955>\u001b[0m in \u001b[0;36m<cell line: 8>\u001b[0;34m()\u001b[0m\n\u001b[1;32m      6\u001b[0m \u001b[0mprint\u001b[0m\u001b[0;34m(\u001b[0m\u001b[0mL\u001b[0m\u001b[0;34m[\u001b[0m\u001b[0;34m-\u001b[0m\u001b[0;36m3\u001b[0m\u001b[0;34m]\u001b[0m\u001b[0;34m)\u001b[0m\u001b[0;34m\u001b[0m\u001b[0;34m\u001b[0m\u001b[0m\n\u001b[1;32m      7\u001b[0m \u001b[0mprint\u001b[0m\u001b[0;34m(\u001b[0m\u001b[0mL\u001b[0m\u001b[0;34m[\u001b[0m\u001b[0;34m-\u001b[0m\u001b[0;36m6\u001b[0m\u001b[0;34m]\u001b[0m\u001b[0;34m)\u001b[0m\u001b[0;34m\u001b[0m\u001b[0;34m\u001b[0m\u001b[0m\n\u001b[0;32m----> 8\u001b[0;31m \u001b[0mprint\u001b[0m\u001b[0;34m(\u001b[0m\u001b[0mL\u001b[0m\u001b[0;34m[\u001b[0m\u001b[0;36m1.0\u001b[0m\u001b[0;34m]\u001b[0m\u001b[0;34m)\u001b[0m\u001b[0;34m\u001b[0m\u001b[0;34m\u001b[0m\u001b[0m\n\u001b[0m",
            "\u001b[0;31mTypeError\u001b[0m: list indices must be integers or slices, not float"
          ]
        }
      ]
    },
    {
      "cell_type": "code",
      "source": [
        "L = [10, 20, 30, 4, 5, 6]\n",
        "n = len(L)\n",
        "print(n)\n",
        "m = int(n / 2)\n",
        "print(m, type(m))\n",
        "print(L[m])"
      ],
      "metadata": {
        "colab": {
          "base_uri": "https://localhost:8080/"
        },
        "id": "NpYUPRQF-WCZ",
        "outputId": "9cc00973-5131-4f69-d77e-32d161422b61"
      },
      "execution_count": null,
      "outputs": [
        {
          "output_type": "stream",
          "name": "stdout",
          "text": [
            "6\n",
            "3 <class 'int'>\n",
            "4\n"
          ]
        }
      ]
    },
    {
      "cell_type": "code",
      "source": [
        "L = [10, 20, 30, 'ABC', '123', '456']\n",
        "n = len(L)\n",
        "print('n', n)\n",
        "temp = L[0]\n",
        "print('temp:', temp)\n",
        "L[0] = L[-1]\n",
        "L[-1] = temp\n",
        "print(L)"
      ],
      "metadata": {
        "colab": {
          "base_uri": "https://localhost:8080/"
        },
        "id": "mKGTJMkP_V6g",
        "outputId": "58669952-6437-4552-d6b7-d0ad13ea80bc"
      },
      "execution_count": null,
      "outputs": [
        {
          "output_type": "stream",
          "name": "stdout",
          "text": [
            "n 6\n",
            "temp: 10\n",
            "['456', 20, 30, 'ABC', '123', 10]\n"
          ]
        }
      ]
    },
    {
      "cell_type": "code",
      "source": [
        "x, y, z = 10, 20, 30\n",
        "print(x)\n",
        "print(y)\n",
        "print(z)"
      ],
      "metadata": {
        "colab": {
          "base_uri": "https://localhost:8080/"
        },
        "id": "Sj7sapneBMHX",
        "outputId": "09aa2a21-f643-4c44-b3a4-321482ab741a"
      },
      "execution_count": null,
      "outputs": [
        {
          "output_type": "stream",
          "name": "stdout",
          "text": [
            "10\n",
            "20\n",
            "30\n"
          ]
        }
      ]
    },
    {
      "cell_type": "code",
      "source": [
        "L = [10, 20, 30, 'ABC', '123', '456']\n",
        "L[0], L[-1] = L[-1], L[0]\n",
        "print(L)"
      ],
      "metadata": {
        "colab": {
          "base_uri": "https://localhost:8080/"
        },
        "id": "Xy2lj3h_B_Th",
        "outputId": "7ac7b4f2-9c2f-4fac-bf50-bb439aafb522"
      },
      "execution_count": null,
      "outputs": [
        {
          "output_type": "stream",
          "name": "stdout",
          "text": [
            "['456', 20, 30, 'ABC', '123', 10]\n"
          ]
        }
      ]
    },
    {
      "cell_type": "code",
      "source": [
        "L = [10, 20, 30, 'ABC', '123', '456']\n",
        "L1 = L[0:3:1] #half-open range\n",
        "print(L1)\n",
        "\n",
        "L2 = L[1:5:1]\n",
        "print(L2)\n",
        "\n",
        "L3 = L[1:5:2]\n",
        "print(L3)\n",
        "\n",
        "L4 = L[:3:1]\n",
        "print(L4)\n",
        "L5 = L[:3]\n",
        "print(L5)\n",
        "L6 = L[:]\n",
        "print(L6)\n",
        "L7 = L[2:]\n",
        "print(L7)\n",
        "\n",
        "L8 = L[-2:]\n",
        "print(L8)\n",
        "\n",
        "L9 = L[-3:-1]\n",
        "print('L9', L9)\n",
        "\n",
        "L10 = L[-1:-6]\n",
        "print('L10', L10)\n",
        "\n",
        "L11 = L[-1:-6:-1]\n",
        "print('L11', L11)\n",
        "\n",
        "L12 = L[::-1]\n",
        "print('L12', L12)"
      ],
      "metadata": {
        "colab": {
          "base_uri": "https://localhost:8080/"
        },
        "id": "ewKAivTlCb5b",
        "outputId": "f1f58412-3a80-42b8-c7f3-8c3075a71c7d"
      },
      "execution_count": null,
      "outputs": [
        {
          "output_type": "stream",
          "name": "stdout",
          "text": [
            "[10, 20, 30]\n",
            "[20, 30, 'ABC', '123']\n",
            "[20, 'ABC']\n",
            "[10, 20, 30]\n",
            "[10, 20, 30]\n",
            "[10, 20, 30, 'ABC', '123', '456']\n",
            "[30, 'ABC', '123', '456']\n",
            "['123', '456']\n",
            "L9 ['ABC', '123']\n",
            "L10 []\n",
            "L11 ['456', '123', 'ABC', 30, 20]\n",
            "L12 ['456', '123', 'ABC', 30, 20, 10]\n"
          ]
        }
      ]
    },
    {
      "cell_type": "code",
      "source": [
        "L = [10, 20, 30, 'ABC', '123', '456']\n",
        "\n",
        "print(L[0], type(L[0]))\n",
        "print(L[0:1], type(L[0:1]))"
      ],
      "metadata": {
        "colab": {
          "base_uri": "https://localhost:8080/"
        },
        "id": "hxUReiC0GCK_",
        "outputId": "4afd7ff2-3f0a-4c97-c4ec-5787aca8622f"
      },
      "execution_count": null,
      "outputs": [
        {
          "output_type": "stream",
          "name": "stdout",
          "text": [
            "10 <class 'int'>\n",
            "[10] <class 'list'>\n"
          ]
        }
      ]
    },
    {
      "cell_type": "code",
      "source": [
        "L1 = [1, 2, 3]\n",
        "L2 = ['abc', 'efg', 'zfdsa']\n",
        "L3 = L1 + L2\n",
        "print(L3)\n",
        "\n",
        "#L3 += 10\n",
        "L3 += [10]\n",
        "print(L3)"
      ],
      "metadata": {
        "colab": {
          "base_uri": "https://localhost:8080/"
        },
        "id": "8iaZ7iuUGCJB",
        "outputId": "07219811-de50-47b1-977c-1da483e0090b"
      },
      "execution_count": null,
      "outputs": [
        {
          "output_type": "stream",
          "name": "stdout",
          "text": [
            "[1, 2, 3, 'abc', 'efg', 'zfdsa']\n",
            "[1, 2, 3, 'abc', 'efg', 'zfdsa', 10]\n"
          ]
        }
      ]
    },
    {
      "cell_type": "code",
      "source": [],
      "metadata": {
        "id": "-3rgUf1jDjGk"
      },
      "execution_count": null,
      "outputs": []
    }
  ]
}