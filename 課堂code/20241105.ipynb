{
  "nbformat": 4,
  "nbformat_minor": 0,
  "metadata": {
    "colab": {
      "provenance": []
    },
    "kernelspec": {
      "name": "python3",
      "display_name": "Python 3"
    },
    "language_info": {
      "name": "python"
    }
  },
  "cells": [
    {
      "cell_type": "code",
      "execution_count": null,
      "metadata": {
        "colab": {
          "base_uri": "https://localhost:8080/"
        },
        "id": "cZq43hOmFS36",
        "outputId": "85cd3262-dc15-4711-861b-e14ed3abb906"
      },
      "outputs": [
        {
          "output_type": "stream",
          "name": "stdout",
          "text": [
            "L1: [10, 20, 30]\n",
            "L2: [10, 20, 30]\n",
            "L1: [15, 20, 30]\n",
            "L2: [15, 20, 30]\n"
          ]
        }
      ],
      "source": [
        "L1 = [10, 20 ,30] # address\n",
        "L2 = L1           # Copy address from L1 to L2\n",
        "print('L1:', L1)\n",
        "print('L2:', L2)\n",
        "\n",
        "L2[0] += 5\n",
        "print('L1:', L1)\n",
        "print('L2:', L2)"
      ]
    },
    {
      "cell_type": "code",
      "source": [
        "L1 = [10, 20 ,30] # address\n",
        "L2 = list(L1)     # Copy L1 to L2\n",
        "print('L1:', L1)\n",
        "print('L2:', L2)\n",
        "\n",
        "L2[0] += 5\n",
        "print('L1:', L1)\n",
        "print('L2:', L2)"
      ],
      "metadata": {
        "colab": {
          "base_uri": "https://localhost:8080/"
        },
        "id": "-LL-2HDdN062",
        "outputId": "ac063088-60af-4eec-f19e-5bacdbf23dd7"
      },
      "execution_count": null,
      "outputs": [
        {
          "output_type": "stream",
          "name": "stdout",
          "text": [
            "L1: [10, 20, 30]\n",
            "L2: [10, 20, 30]\n",
            "L1: [10, 20, 30]\n",
            "L2: [15, 20, 30]\n"
          ]
        }
      ]
    },
    {
      "cell_type": "code",
      "source": [
        "L1 = [[1, 2], [3, 4]] # 2x2 array\n",
        "'''\n",
        "  R0 = [1, 2]\n",
        "  R1 = [3, 4]\n",
        "  L1 = [R0's address, R1's address]\n",
        "\n",
        "'''\n",
        "\n",
        "L2 = list(L1)\n",
        "'''\n",
        "  L2 = [R0's address, R1's address]\n",
        "'''\n",
        "print('L1:', L1)\n",
        "print('L2:', L2)\n",
        "\n",
        "L2[0][0] += 5\n",
        "print('L1:', L1)\n",
        "print('L2:', L2)"
      ],
      "metadata": {
        "colab": {
          "base_uri": "https://localhost:8080/"
        },
        "id": "G2gldJQPOxdb",
        "outputId": "d1efda22-fc8a-4565-ba58-125d72e1f7ae"
      },
      "execution_count": null,
      "outputs": [
        {
          "output_type": "stream",
          "name": "stdout",
          "text": [
            "L1: [[1, 2], [3, 4]]\n",
            "L2: [[1, 2], [3, 4]]\n",
            "L1: [[6, 2], [3, 4]]\n",
            "L2: [[6, 2], [3, 4]]\n"
          ]
        }
      ]
    },
    {
      "cell_type": "code",
      "source": [
        "import copy\n",
        "\n",
        "L1 = [[1, 2], [3, 4]] # 2x2 array\n",
        "L2 = copy.deepcopy(L1)\n",
        "\n",
        "print('L1:', L1)\n",
        "print('L2:', L2)\n",
        "\n",
        "L2[0][0] += 5\n",
        "print('L1:', L1)\n",
        "print('L2:', L2)"
      ],
      "metadata": {
        "colab": {
          "base_uri": "https://localhost:8080/"
        },
        "id": "Npkx5zqPQSQd",
        "outputId": "cc3cfb58-45a2-4f69-a391-f229b264ab35"
      },
      "execution_count": null,
      "outputs": [
        {
          "output_type": "stream",
          "name": "stdout",
          "text": [
            "L1: [[1, 2], [3, 4]]\n",
            "L2: [[1, 2], [3, 4]]\n",
            "L1: [[1, 2], [3, 4]]\n",
            "L2: [[6, 2], [3, 4]]\n"
          ]
        }
      ]
    },
    {
      "cell_type": "code",
      "source": [
        "import numpy as np\n",
        "\n",
        "L1 = np.array([[1, 2], [3, 4]]) # 2x2 array\n",
        "L2 = np.array(L1)\n",
        "\n",
        "L2[0][0] += 5\n",
        "print('L1:', L1)\n",
        "print('L2:', L2)"
      ],
      "metadata": {
        "colab": {
          "base_uri": "https://localhost:8080/"
        },
        "id": "neTwLeQmPReQ",
        "outputId": "2c034a6d-3356-4b6e-d8df-b0c7b335eebb"
      },
      "execution_count": null,
      "outputs": [
        {
          "output_type": "stream",
          "name": "stdout",
          "text": [
            "L1: [[1 2]\n",
            " [3 4]]\n",
            "L2: [[6 2]\n",
            " [3 4]]\n"
          ]
        }
      ]
    },
    {
      "cell_type": "code",
      "source": [
        "L = [123, 4, 567, 9801, 1234, 0, 2341]\n",
        "Ls = [str(x) for x in L]\n",
        "print(Ls)\n",
        "Ls.sort(key = len, reverse = True)\n",
        "print(Ls)\n",
        "L = [int(x) for x in Ls]\n",
        "print(L)"
      ],
      "metadata": {
        "colab": {
          "base_uri": "https://localhost:8080/"
        },
        "id": "m2HbelK8Q_Q7",
        "outputId": "25835424-7ef7-42e0-c6bb-f2643d2e932d"
      },
      "execution_count": null,
      "outputs": [
        {
          "output_type": "stream",
          "name": "stdout",
          "text": [
            "['123', '4', '567', '9801', '1234', '0', '2341']\n",
            "['9801', '1234', '2341', '123', '567', '4', '0']\n",
            "[9801, 1234, 2341, 123, 567, 4, 0]\n"
          ]
        }
      ]
    },
    {
      "cell_type": "code",
      "source": [
        "def f(x):\n",
        "  return len(str(x))\n",
        "L = [123, 4, 567, 9801, 1234, 0, 2341]\n",
        "L.sort(key = f, reverse = True)\n",
        "print(L)"
      ],
      "metadata": {
        "colab": {
          "base_uri": "https://localhost:8080/"
        },
        "id": "KasAJ_UPR8bG",
        "outputId": "19d01bea-8b6f-4ec3-ba8c-239581956d48"
      },
      "execution_count": null,
      "outputs": [
        {
          "output_type": "stream",
          "name": "stdout",
          "text": [
            "[9801, 1234, 2341, 123, 567, 4, 0]\n"
          ]
        }
      ]
    },
    {
      "cell_type": "code",
      "source": [
        "L = [123, 4, 567, 9801, 1234, 0, 2341]\n",
        "L.sort(key = lambda x: len(str(x)), reverse = True)\n",
        "print(L)"
      ],
      "metadata": {
        "colab": {
          "base_uri": "https://localhost:8080/"
        },
        "id": "FaefYXBjSNQN",
        "outputId": "6a1b65fc-7c42-4128-fa91-6426af47d3b9"
      },
      "execution_count": null,
      "outputs": [
        {
          "output_type": "stream",
          "name": "stdout",
          "text": [
            "[9801, 1234, 2341, 123, 567, 4, 0]\n"
          ]
        }
      ]
    },
    {
      "cell_type": "code",
      "source": [
        "t = 12345, 54321, 'hello!'\t# without any parenthesis\n",
        "print(type(t))\n",
        "print(t[0])\t# 12345\n",
        "print(t)\t# (12345, 54321, 'hello!')\n",
        "\n",
        "t2 = (10, 20, 30)\n",
        "print(t2)\n",
        "#t2[0] = 100\n",
        "t2 += (40, 50)\n",
        "print(t2)\n",
        "#t2.append(60)\n",
        "\n",
        "t2 += (60,)\n",
        "print(t2)\n",
        "\n",
        "t3 = ((1, 2), (3, 4))\n",
        "print(t3)"
      ],
      "metadata": {
        "colab": {
          "base_uri": "https://localhost:8080/"
        },
        "id": "J_Npe6-iRsx3",
        "outputId": "779eca0e-6510-47aa-8b66-3220d64ee28c"
      },
      "execution_count": null,
      "outputs": [
        {
          "output_type": "stream",
          "name": "stdout",
          "text": [
            "<class 'tuple'>\n",
            "12345\n",
            "(12345, 54321, 'hello!')\n",
            "(10, 20, 30)\n",
            "(10, 20, 30, 40, 50)\n",
            "(10, 20, 30, 40, 50, 60)\n",
            "((1, 2), (3, 4))\n"
          ]
        }
      ]
    },
    {
      "cell_type": "code",
      "source": [
        "import matplotlib.pyplot as plt\n",
        "X = [0, 1, 2, 3]\n",
        "Y = [10, 5, 8, 9]\n",
        "plt.plot(X, Y, color = (1.0, 0.0, 0.8))\n",
        "plt.scatter(X, Y, color = (.0, 1.0, 0.0))\n",
        "plt.show()\n"
      ],
      "metadata": {
        "colab": {
          "base_uri": "https://localhost:8080/",
          "height": 106
        },
        "id": "rk6Zbg4HTC_s",
        "outputId": "da28110d-0e09-4505-bb05-cc5c182d9db2"
      },
      "execution_count": null,
      "outputs": [
        {
          "output_type": "error",
          "ename": "SyntaxError",
          "evalue": "positional argument follows keyword argument (<ipython-input-34-de6071128149>, line 4)",
          "traceback": [
            "\u001b[0;36m  File \u001b[0;32m\"<ipython-input-34-de6071128149>\"\u001b[0;36m, line \u001b[0;32m4\u001b[0m\n\u001b[0;31m    plt.plot(X, Y, color = 1.0, 0.0, 0.8)\u001b[0m\n\u001b[0m                                        ^\u001b[0m\n\u001b[0;31mSyntaxError\u001b[0m\u001b[0;31m:\u001b[0m positional argument follows keyword argument\n"
          ]
        }
      ]
    },
    {
      "cell_type": "code",
      "source": [
        "T = (0, 10), (1, 5), (2, 8), (3, 9)\n",
        "X = []\n",
        "Y = []\n",
        "for t in T:\n",
        "  X.append(t[0])\n",
        "  Y.append(t[1])\n",
        "  print(t)\n",
        "print('X', X)\n",
        "print('Y', Y)"
      ],
      "metadata": {
        "colab": {
          "base_uri": "https://localhost:8080/"
        },
        "id": "Gami3ClCU_OH",
        "outputId": "cfa7f86a-f27d-44ee-90c9-e595443958ec"
      },
      "execution_count": null,
      "outputs": [
        {
          "output_type": "stream",
          "name": "stdout",
          "text": [
            "(0, 10)\n",
            "(1, 5)\n",
            "(2, 8)\n",
            "(3, 9)\n",
            "X [0, 1, 2, 3]\n",
            "Y [10, 5, 8, 9]\n"
          ]
        }
      ]
    },
    {
      "cell_type": "code",
      "source": [
        "T = (0, 10), (1, 5), (2, 8), (3, 9)\n",
        "X = []\n",
        "Y = []\n",
        "for t in T:\n",
        "  x, y = t\n",
        "  X.append(x)\n",
        "  Y.append(y)\n",
        "  print(t)\n",
        "print('X', X)\n",
        "print('Y', Y)"
      ],
      "metadata": {
        "colab": {
          "base_uri": "https://localhost:8080/"
        },
        "id": "dsQfS1pGYcQX",
        "outputId": "a497e98b-190a-4d22-ce0e-33641a06ded7"
      },
      "execution_count": null,
      "outputs": [
        {
          "output_type": "stream",
          "name": "stdout",
          "text": [
            "(0, 10)\n",
            "(1, 5)\n",
            "(2, 8)\n",
            "(3, 9)\n",
            "X [0, 1, 2, 3]\n",
            "Y [10, 5, 8, 9]\n"
          ]
        }
      ]
    },
    {
      "cell_type": "code",
      "source": [
        "T = (0, 10), (1, 5), (2, 8), (3, 9)\n",
        "X = []\n",
        "Y = []\n",
        "for x, y in T: # unzip\n",
        "  X.append(x)\n",
        "  Y.append(y)\n",
        "  print(t)\n",
        "print('X', X)\n",
        "print('Y', Y)"
      ],
      "metadata": {
        "colab": {
          "base_uri": "https://localhost:8080/"
        },
        "id": "dSTJqhdDXsQu",
        "outputId": "eaf68542-d54a-4464-da41-43087b043e70"
      },
      "execution_count": null,
      "outputs": [
        {
          "output_type": "stream",
          "name": "stdout",
          "text": [
            "(3, 9)\n",
            "(3, 9)\n",
            "(3, 9)\n",
            "(3, 9)\n",
            "X [0, 1, 2, 3]\n",
            "Y [10, 5, 8, 9]\n"
          ]
        }
      ]
    },
    {
      "cell_type": "code",
      "source": [
        "import numpy as np\n",
        "T = (0, 10), (1, 5), (2, 8), (3, 9)\n",
        "A = np.array(T)\n",
        "print(A)\n",
        "X = A[:, 0]\n",
        "Y = A[:, 1]\n",
        "print('X', X)\n",
        "print('Y', Y)"
      ],
      "metadata": {
        "colab": {
          "base_uri": "https://localhost:8080/"
        },
        "id": "8Ar4_wg7YK3M",
        "outputId": "702f3dec-47f5-4b9b-8978-6f986387c40c"
      },
      "execution_count": null,
      "outputs": [
        {
          "output_type": "stream",
          "name": "stdout",
          "text": [
            "[[ 0 10]\n",
            " [ 1  5]\n",
            " [ 2  8]\n",
            " [ 3  9]]\n",
            "X [0 1 2 3]\n",
            "Y [10  5  8  9]\n"
          ]
        }
      ]
    },
    {
      "cell_type": "code",
      "source": [
        "L = ['ABC', 'DEF', 'GHI']\n",
        "E = enumerate(L)\n",
        "for x in E:\n",
        "    print(type(x), x)\n"
      ],
      "metadata": {
        "colab": {
          "base_uri": "https://localhost:8080/"
        },
        "id": "oAGHP4uoY1Nb",
        "outputId": "e65586fe-e307-461e-bfc6-b3b1e41857c3"
      },
      "execution_count": null,
      "outputs": [
        {
          "output_type": "stream",
          "name": "stdout",
          "text": [
            "<class 'tuple'> (0, 'ABC')\n",
            "<class 'tuple'> (1, 'DEF')\n",
            "<class 'tuple'> (2, 'GHI')\n"
          ]
        }
      ]
    },
    {
      "cell_type": "code",
      "source": [
        "L = ['ABC', 'DEF', 'GHI']\n",
        "for x in enumerate(L):\n",
        "    print(type(x), x)"
      ],
      "metadata": {
        "colab": {
          "base_uri": "https://localhost:8080/"
        },
        "id": "o51i3wzaZ90l",
        "outputId": "8e578a1a-6433-4c51-c831-2c63f3bef08a"
      },
      "execution_count": null,
      "outputs": [
        {
          "output_type": "stream",
          "name": "stdout",
          "text": [
            "<class 'tuple'> (0, 'ABC')\n",
            "<class 'tuple'> (1, 'DEF')\n",
            "<class 'tuple'> (2, 'GHI')\n"
          ]
        }
      ]
    },
    {
      "cell_type": "code",
      "source": [
        "L = ['ABC', 'DEF', 'GHI']\n",
        "for i, x in enumerate(L):\n",
        "    print(type(x), i, x)"
      ],
      "metadata": {
        "colab": {
          "base_uri": "https://localhost:8080/"
        },
        "id": "enBaVlRyaM8T",
        "outputId": "2e8220c5-6c81-45ec-bd9e-7028a49cf18d"
      },
      "execution_count": null,
      "outputs": [
        {
          "output_type": "stream",
          "name": "stdout",
          "text": [
            "<class 'str'> 0 ABC\n",
            "<class 'str'> 1 DEF\n",
            "<class 'str'> 2 GHI\n"
          ]
        }
      ]
    },
    {
      "cell_type": "code",
      "source": [
        "names  = ['James', 'Mary', 'Jenny']\n",
        "ages = [18, 17, 20]\n",
        "ID = ['A001', 'A002', 'A003']\n",
        "for i, name in enumerate(names):\n",
        "    print(i, name, ages[i], ID[i])"
      ],
      "metadata": {
        "colab": {
          "base_uri": "https://localhost:8080/"
        },
        "id": "2TWoY2HoaSwY",
        "outputId": "b61caf16-b917-49eb-a67a-36a61c163725"
      },
      "execution_count": null,
      "outputs": [
        {
          "output_type": "stream",
          "name": "stdout",
          "text": [
            "0 James 18 A001\n",
            "1 Mary 17 A002\n",
            "2 Jenny 20 A003\n"
          ]
        }
      ]
    },
    {
      "cell_type": "code",
      "source": [
        "names  = ['James', 'Mary',  'Jenny']\n",
        "ages =   [18,       17,      20]\n",
        "ID =     ['A001',   'A002', 'A003', 'A004']\n",
        "for t in zip(ID, names, ages):\n",
        "    print(type(t))\n",
        "    idx, name, age  = t\n",
        "    print(name, age, idx)"
      ],
      "metadata": {
        "colab": {
          "base_uri": "https://localhost:8080/"
        },
        "id": "GiOqqR-Na1N7",
        "outputId": "75438c79-d5eb-4a84-dc64-e0c2a66ca7e0"
      },
      "execution_count": 2,
      "outputs": [
        {
          "output_type": "stream",
          "name": "stdout",
          "text": [
            "<class 'tuple'>\n",
            "James 18 A001\n",
            "<class 'tuple'>\n",
            "Mary 17 A002\n",
            "<class 'tuple'>\n",
            "Jenny 20 A003\n"
          ]
        }
      ]
    },
    {
      "cell_type": "code",
      "source": [
        "names  = ['James', 'Mary',  'Jenny']\n",
        "ages =   [18,       17,      20]\n",
        "ID =     ['A001',   'A002', 'A003', 'A004']\n",
        "for t in enumerate(zip(ID, names, ages)):\n",
        "    #print(type(t))\n",
        "    print(t)\n",
        "    #idx, name, age  = t\n",
        "    #print(name, age, idx)\n",
        "print()\n",
        "for i, t in enumerate(zip(ID, names, ages)):\n",
        "    print(i, t)\n",
        "\n",
        "for i, (sid, name, age) in enumerate(zip(ID, names, ages)):\n",
        "    print(i, sid, name, age)"
      ],
      "metadata": {
        "id": "inmvH7ufbU_C",
        "colab": {
          "base_uri": "https://localhost:8080/"
        },
        "outputId": "d84d6ae0-a972-4c9a-bb1f-d614d2e6e9aa"
      },
      "execution_count": 9,
      "outputs": [
        {
          "output_type": "stream",
          "name": "stdout",
          "text": [
            "(0, ('A001', 'James', 18))\n",
            "(1, ('A002', 'Mary', 17))\n",
            "(2, ('A003', 'Jenny', 20))\n",
            "\n",
            "0 ('A001', 'James', 18)\n",
            "1 ('A002', 'Mary', 17)\n",
            "2 ('A003', 'Jenny', 20)\n",
            "0 A001 James 18\n",
            "1 A002 Mary 17\n",
            "2 A003 Jenny 20\n"
          ]
        }
      ]
    },
    {
      "cell_type": "code",
      "source": [],
      "metadata": {
        "id": "nfNKiMoyLphN"
      },
      "execution_count": null,
      "outputs": []
    }
  ]
}