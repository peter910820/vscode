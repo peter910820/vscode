{
  "nbformat": 4,
  "nbformat_minor": 0,
  "metadata": {
    "colab": {
      "provenance": []
    },
    "kernelspec": {
      "name": "python3",
      "display_name": "Python 3"
    },
    "language_info": {
      "name": "python"
    }
  },
  "cells": [
    {
      "cell_type": "code",
      "execution_count": 8,
      "metadata": {
        "colab": {
          "base_uri": "https://localhost:8080/"
        },
        "id": "Xn3f8Gu0M0Dx",
        "outputId": "1fcd7c97-7c17-4d9c-d7e1-75f0638686a1"
      },
      "outputs": [
        {
          "output_type": "stream",
          "name": "stdout",
          "text": [
            "['XYZ', 'abc', 'XYZ', 'abc', 'xyz', 'abc', 'ABC', 'xyz']\n",
            "Counter({'abc': 3, 'XYZ': 2, 'xyz': 2, 'ABC': 1})\n",
            "XYZ\n",
            "abc\n",
            "xyz\n",
            "ABC\n",
            "2\n",
            "3\n",
            "2\n",
            "1\n",
            "('XYZ', 2)\n",
            "('abc', 3)\n",
            "('xyz', 2)\n",
            "('ABC', 1)\n",
            "[('abc', 3), ('XYZ', 2), ('xyz', 2), ('ABC', 1)]\n"
          ]
        }
      ],
      "source": [
        "from collections import Counter\n",
        "\n",
        "s = \"  XYZ abc XYZ abc  xyz  abc  ABC  xyz\"\n",
        "A = s.split()\n",
        "print(A)\n",
        "C = Counter(A)\n",
        "print(C)\n",
        "for k in C:\n",
        "  print(k)\n",
        "\n",
        "for v in C.values():\n",
        "  print(v)\n",
        "\n",
        "for t in C.items():\n",
        "  print(t)\n",
        "from operator import itemgetter\n",
        "L = sorted(C.items(), key=itemgetter(1), reverse = True)\n",
        "print(L)"
      ]
    },
    {
      "cell_type": "code",
      "source": [
        "def avg(L):\t\t\t# function definition\n",
        "    return sum(L) / len(L)\n",
        "    print(L)\n",
        "\t\t\t\t# L is the parameter of avg\n",
        "\n",
        "L1 = [4, 5, 2, 1, 9]\n",
        "L2 = [0.4, 0.5, 0.2, 0.1, 0.9]\n",
        "print(avg(L1))\t\t\t# function calling\n",
        "print(avg(L2))\t\t\t# function calling\n",
        "\n",
        "# L1 and L2 are arguments for function calling of avg\n"
      ],
      "metadata": {
        "colab": {
          "base_uri": "https://localhost:8080/"
        },
        "id": "M0IH8GddRVsv",
        "outputId": "40ae5c2c-ec76-47df-e27a-dbac0712faa7"
      },
      "execution_count": 9,
      "outputs": [
        {
          "output_type": "stream",
          "name": "stdout",
          "text": [
            "4.2\n",
            "0.42000000000000004\n"
          ]
        }
      ]
    },
    {
      "cell_type": "code",
      "source": [
        "def minmax(L):\t\t\t# function definition\n",
        "    return min(L), max(L)\n",
        "L1 = [4, 5, 2, 1, 9]\n",
        "L2 = [0.4, 0.5, 0.2, 0.1, 0.9]\n",
        "t1 = minmax(L1)\n",
        "t2 = minmax(L2)\n",
        "print(t1, type(t1))\n",
        "print(t2, type(t2))\n",
        "\n",
        "min1, max1 = minmax(L1)\n",
        "print(min1, max1)\n",
        "\n",
        "\n",
        "\n"
      ],
      "metadata": {
        "colab": {
          "base_uri": "https://localhost:8080/"
        },
        "id": "fb7gQKHkYQy_",
        "outputId": "50b0a5e2-98c9-43d1-cb08-0c0de4a4a17a"
      },
      "execution_count": 12,
      "outputs": [
        {
          "output_type": "stream",
          "name": "stdout",
          "text": [
            "(1, 9) <class 'tuple'>\n",
            "(0.1, 0.9) <class 'tuple'>\n",
            "1 9\n"
          ]
        }
      ]
    },
    {
      "cell_type": "code",
      "source": [
        "def swap(x, y):\n",
        "  return y, x\n",
        "\n",
        "a = 10\n",
        "b = 20\n",
        "a, b = swap(a, b)\n",
        "print(a, b)"
      ],
      "metadata": {
        "colab": {
          "base_uri": "https://localhost:8080/"
        },
        "id": "pel4IjpZYnEq",
        "outputId": "1ec172c2-3a56-4a39-c775-696101107e31"
      },
      "execution_count": 15,
      "outputs": [
        {
          "output_type": "stream",
          "name": "stdout",
          "text": [
            "20 10\n"
          ]
        }
      ]
    },
    {
      "cell_type": "code",
      "source": [
        "def score_level(score):\n",
        "  if score >= 90:\n",
        "    return \"A\"\n",
        "  elif score >= 80:\n",
        "    return \"B\"\n",
        "  elif score >= 70:\n",
        "    return \"C\"\n",
        "  return \"D\"\n",
        "\n",
        "print(score_level(95))\n",
        "print(score_level(87))\n",
        "print(score_level(72))\n",
        "print(score_level(60))"
      ],
      "metadata": {
        "colab": {
          "base_uri": "https://localhost:8080/"
        },
        "id": "9D82gVDkZO2g",
        "outputId": "22bb34a6-e925-4cad-f02b-54f8fd043777"
      },
      "execution_count": 19,
      "outputs": [
        {
          "output_type": "stream",
          "name": "stdout",
          "text": [
            "A\n",
            "B\n",
            "C\n",
            "D\n"
          ]
        }
      ]
    },
    {
      "cell_type": "code",
      "source": [
        "def print_list(L, sep):\n",
        "  for i, x in enumerate(L):\n",
        "    print(i, x, sep = sep)  # side effect\n",
        "L1 = [4, 5, 2, 1, 9]\n",
        "L2 = [0.4, 0.5, 0.2, 0.1, 0.9]\n",
        "r1 = print_list(L1, \",\")\n",
        "r2 = print_list(L2, \":\")\n",
        "print(r1)\n",
        "print(r2)"
      ],
      "metadata": {
        "colab": {
          "base_uri": "https://localhost:8080/"
        },
        "id": "T38ApsbVZ66s",
        "outputId": "384201ee-3216-4e67-b8a4-66adc00cd447"
      },
      "execution_count": 21,
      "outputs": [
        {
          "output_type": "stream",
          "name": "stdout",
          "text": [
            "0,4\n",
            "1,5\n",
            "2,2\n",
            "3,1\n",
            "4,9\n",
            "0:0.4\n",
            "1:0.5\n",
            "2:0.2\n",
            "3:0.1\n",
            "4:0.9\n",
            "None\n",
            "None\n"
          ]
        }
      ]
    },
    {
      "cell_type": "code",
      "source": [
        "def hello():\n",
        "  return 'hello'\n",
        "\n",
        "print(hello())"
      ],
      "metadata": {
        "colab": {
          "base_uri": "https://localhost:8080/"
        },
        "id": "YM2jEtSFa6JZ",
        "outputId": "b2f28307-f6d8-4265-cf15-c3264f3da63a"
      },
      "execution_count": 22,
      "outputs": [
        {
          "output_type": "stream",
          "name": "stdout",
          "text": [
            "hello\n"
          ]
        }
      ]
    },
    {
      "cell_type": "code",
      "source": [
        "def print_list(L, sep = ' '): # sep has a default argument\n",
        "  for i, x in enumerate(L):\n",
        "    print(i, x, sep = sep)  # side effect\n",
        "L1 = [4, 5, 2, 1, 9]\n",
        "L2 = [0.4, 0.5, 0.2, 0.1, 0.9]\n",
        "print_list(L1, \",\")\n",
        "print_list(L2, \":\")\n",
        "\n",
        "print_list(L1)"
      ],
      "metadata": {
        "colab": {
          "base_uri": "https://localhost:8080/"
        },
        "id": "FXbYfCgdb7ES",
        "outputId": "0fbdcae9-21a9-44a0-d27c-887706c282d8"
      },
      "execution_count": 26,
      "outputs": [
        {
          "output_type": "stream",
          "name": "stdout",
          "text": [
            "0,4\n",
            "1,5\n",
            "2,2\n",
            "3,1\n",
            "4,9\n",
            "0:0.4\n",
            "1:0.5\n",
            "2:0.2\n",
            "3:0.1\n",
            "4:0.9\n",
            "0 4\n",
            "1 5\n",
            "2 2\n",
            "3 1\n",
            "4 9\n"
          ]
        }
      ]
    },
    {
      "cell_type": "code",
      "source": [
        "def sumList(L1, L2, start = 0, stop = None):\n",
        "  return [x + y for x, y in zip(L1[start:stop], L2[start:stop])]\n",
        "\n",
        "L1 = [4, 5, 2, 1, 9]\n",
        "L2 = [0.4, 0.5, 0.2, 0.1, 0.9]\n",
        "#L2 = [0.4, 0.5]\n",
        "#L3 = sumList(L1, L2, 2)\n",
        "#L3 = sumList(L1, L2, , 4)\n",
        "#L3 = sumList(L1 = L1, L2 = L2, stop = 4)\n",
        "L3 = sumList(stop = 4, L2 = L2, L1 = L1 )\n",
        "print(L3)\t\t# [4.4, 5.5, 2.2, 1.1, 9.9]\n",
        "\n",
        "\n"
      ],
      "metadata": {
        "colab": {
          "base_uri": "https://localhost:8080/"
        },
        "id": "oKA1JSfacXFj",
        "outputId": "ab6c3aef-5772-41c0-ce2c-714c2208ac03"
      },
      "execution_count": 44,
      "outputs": [
        {
          "output_type": "stream",
          "name": "stdout",
          "text": [
            "[4.4, 5.5, 2.2, 1.1]\n"
          ]
        }
      ]
    },
    {
      "cell_type": "code",
      "source": [
        "def f(x): # x is a f's parameter, x is also a local variable in f.\n",
        "  x += 1\n",
        "  return x\n",
        "\n",
        "x = 10\n",
        "y = f(x)\n",
        "print(x)\n",
        "print(y)"
      ],
      "metadata": {
        "colab": {
          "base_uri": "https://localhost:8080/"
        },
        "id": "lTX-dgeKefwM",
        "outputId": "c5d6583d-ebda-44b6-ed09-30a603b16843"
      },
      "execution_count": 46,
      "outputs": [
        {
          "output_type": "stream",
          "name": "stdout",
          "text": [
            "10\n",
            "11\n"
          ]
        }
      ]
    },
    {
      "cell_type": "code",
      "source": [],
      "metadata": {
        "id": "sFw2rL7AivV-"
      },
      "execution_count": null,
      "outputs": []
    }
  ]
}