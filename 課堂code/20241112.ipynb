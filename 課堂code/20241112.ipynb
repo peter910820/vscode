{
  "nbformat": 4,
  "nbformat_minor": 0,
  "metadata": {
    "colab": {
      "provenance": []
    },
    "kernelspec": {
      "name": "python3",
      "display_name": "Python 3"
    },
    "language_info": {
      "name": "python"
    }
  },
  "cells": [
    {
      "cell_type": "code",
      "execution_count": 14,
      "metadata": {
        "colab": {
          "base_uri": "https://localhost:8080/"
        },
        "id": "WEAYNm8r6oGe",
        "outputId": "9c3459a4-c445-40e9-996a-24eb7d7e36e3"
      },
      "outputs": [
        {
          "output_type": "stream",
          "name": "stdout",
          "text": [
            "<class 'set'>\n",
            "{9, 2, 1, 7}\n",
            "{9, 2, 1, 7}\n",
            "{1, 2, (1, 2), 7, 9}\n",
            "1\n",
            "2\n",
            "(1, 2)\n",
            "7\n",
            "9\n",
            "0 1\n",
            "1 2\n",
            "2 (1, 2)\n",
            "3 7\n",
            "4 9\n"
          ]
        }
      ],
      "source": [
        "A = {7, 9, 1, 1, 9, 2, 1, 2}\n",
        "print(type(A))\n",
        "print(A)\t# {9, 2, 1, 7}\n",
        "\t\t# The order is undefined\n",
        "\t\t# because set is unordered; hashing\n",
        "#A[0] = 10\n",
        "#print(A[0])\t# Error!\n",
        "#A + {1, 2}\n",
        "#print(A)\n",
        "A.add(1)\n",
        "print(A)\n",
        "A.add((1, 2))\n",
        "print(A)\n",
        "\n",
        "for x in A:\n",
        "  print(x)\n",
        "\n",
        "for i, x in enumerate(A):\n",
        "  print(i, x)"
      ]
    },
    {
      "cell_type": "code",
      "source": [
        "A = {3, 2, 1, 5}\n",
        "print(A)"
      ],
      "metadata": {
        "colab": {
          "base_uri": "https://localhost:8080/"
        },
        "id": "dz4k1cdIPIEU",
        "outputId": "82090046-1173-4298-b8d2-f7374aaccb5c"
      },
      "execution_count": 2,
      "outputs": [
        {
          "output_type": "stream",
          "name": "stdout",
          "text": [
            "{1, 2, 3, 5}\n"
          ]
        }
      ]
    },
    {
      "cell_type": "code",
      "source": [
        "S = {}\n",
        "print(type(S))"
      ],
      "metadata": {
        "colab": {
          "base_uri": "https://localhost:8080/"
        },
        "id": "LTrsfErGR1lB",
        "outputId": "08a262ca-b796-4323-b77e-0540fcb62656"
      },
      "execution_count": 15,
      "outputs": [
        {
          "output_type": "stream",
          "name": "stdout",
          "text": [
            "<class 'dict'>\n"
          ]
        }
      ]
    },
    {
      "cell_type": "code",
      "source": [
        "S = set()\n",
        "print(type(S), len(S))\n",
        "while True:\n",
        "    x = int(input('Input a positive number: '))\n",
        "    if x < 0:\n",
        "        break\n",
        "    else:\n",
        "        S.add(x)\n",
        "print('The size of S is ', len(S))\n",
        "print(S)\n",
        "L = list(S);\n",
        "print(L)\n"
      ],
      "metadata": {
        "colab": {
          "base_uri": "https://localhost:8080/"
        },
        "id": "nnERx4MGP7_i",
        "outputId": "dc2b8355-4d53-4461-bb26-900eff0815dc"
      },
      "execution_count": 16,
      "outputs": [
        {
          "output_type": "stream",
          "name": "stdout",
          "text": [
            "<class 'set'> 0\n",
            "Input a positive number: 8\n",
            "Input a positive number: 9\n",
            "Input a positive number: 8\n",
            "Input a positive number: 9\n",
            "Input a positive number: 1\n",
            "Input a positive number: 1\n",
            "Input a positive number: 9999\n",
            "Input a positive number: 8888\n",
            "Input a positive number: 1\n",
            "Input a positive number: -1\n",
            "The size of S is  5\n",
            "{1, 8, 9, 9999, 8888}\n",
            "[1, 8, 9, 9999, 8888]\n"
          ]
        }
      ]
    },
    {
      "cell_type": "code",
      "source": [
        "print(L[-1])\n",
        "L.sort()\n",
        "print(L)\n",
        "\n",
        "print(S)\n",
        "S1 = sorted(S)\n",
        "print(S1, type(S1))"
      ],
      "metadata": {
        "colab": {
          "base_uri": "https://localhost:8080/"
        },
        "id": "DYks1ovqSHgb",
        "outputId": "9441cfca-636b-47fa-e914-bf035971d0a6"
      },
      "execution_count": 21,
      "outputs": [
        {
          "output_type": "stream",
          "name": "stdout",
          "text": [
            "9999\n",
            "[1, 8, 9, 8888, 9999]\n",
            "{1, 8, 9, 9999, 8888}\n",
            "[1, 8, 9, 8888, 9999] <class 'list'>\n"
          ]
        }
      ]
    },
    {
      "cell_type": "code",
      "source": [
        "L = [4, 6, 1, 2, 2, 1, 3 ]\n",
        "#L = [7, 8, 8, 6, 5, 2, 2, 3, 3]\n",
        "Ls = sorted(L)\n",
        "print(Ls)\n",
        "m = len(L) // 2\n",
        "print(Ls[m])\n",
        "S = set(L)\n",
        "print(S)\n",
        "Ss = sorted(S)\n",
        "\n",
        "ms = len(Ss) // 2\n",
        "print(Ss)\n",
        "print(Ss[ms])"
      ],
      "metadata": {
        "colab": {
          "base_uri": "https://localhost:8080/"
        },
        "id": "QN6xzERUSd9T",
        "outputId": "c76bd7da-b1ac-4852-c7b1-f2f579e39367"
      },
      "execution_count": 26,
      "outputs": [
        {
          "output_type": "stream",
          "name": "stdout",
          "text": [
            "[1, 1, 2, 2, 3, 4, 6]\n",
            "2\n",
            "{1, 2, 3, 4, 6}\n",
            "[1, 2, 3, 4, 6]\n",
            "3\n"
          ]
        }
      ]
    },
    {
      "cell_type": "code",
      "source": [
        "A = {4444, 3333, 1111, 2222}\n",
        "B = {3333, 6666, 5555, 4444}\n",
        "C = A.union(B)\n",
        "print(A)\t# {1, 2, 3, 4}\n",
        "print(B)\t# {3, 4, 5, 6}\n",
        "print(C)\t# {1, 2, 3, 4, 5, 6}\n",
        "\n",
        "D = B.union(A)\n",
        "print(D)\t# {1, 2, 3, 4, 5, 6}"
      ],
      "metadata": {
        "colab": {
          "base_uri": "https://localhost:8080/"
        },
        "id": "4wNPL-WfT5Tj",
        "outputId": "427f90b8-eb09-470d-8c21-d821be11b23f"
      },
      "execution_count": 29,
      "outputs": [
        {
          "output_type": "stream",
          "name": "stdout",
          "text": [
            "{4444, 3333, 2222, 1111}\n",
            "{6666, 5555, 4444, 3333}\n",
            "{3333, 6666, 2222, 5555, 1111, 4444}\n",
            "{3333, 6666, 2222, 5555, 1111, 4444}\n"
          ]
        }
      ]
    },
    {
      "cell_type": "code",
      "source": [
        "A = {4444, 3333, 1111, 2222}\n",
        "B = {3333, 6666, 5555, 4444}\n",
        "C = A.intersection(B)\n",
        "print(C)\n",
        "\n",
        "D = B.intersection(A)\n",
        "print(D)"
      ],
      "metadata": {
        "colab": {
          "base_uri": "https://localhost:8080/"
        },
        "id": "5wacZXm7U5ko",
        "outputId": "d30d26d7-752b-49b5-99e1-a69e33075387"
      },
      "execution_count": 31,
      "outputs": [
        {
          "output_type": "stream",
          "name": "stdout",
          "text": [
            "{4444, 3333}\n",
            "{4444, 3333}\n"
          ]
        }
      ]
    },
    {
      "cell_type": "code",
      "source": [
        "A = {4, 3, 1, 2}\n",
        "B = {3, 6, 5, 4}\n",
        "C = {5, 6}\n",
        "print(A.isdisjoint(B))\t\t# False\n",
        "print(A.isdisjoint(C))\t\t# True\n",
        "\n",
        "print(B.isdisjoint(A))\t\t# False\n",
        "print(C.isdisjoint(A))\t\t# True"
      ],
      "metadata": {
        "colab": {
          "base_uri": "https://localhost:8080/"
        },
        "id": "b38uey4GVvin",
        "outputId": "df9096ee-5c7a-491e-abc6-7757a4590c93"
      },
      "execution_count": 33,
      "outputs": [
        {
          "output_type": "stream",
          "name": "stdout",
          "text": [
            "False\n",
            "True\n",
            "False\n",
            "True\n"
          ]
        }
      ]
    },
    {
      "cell_type": "code",
      "source": [
        "A = {4, 3, 1, 2}\n",
        "B = {3, 6, 5, 4}\n",
        "C = {5, 6}\n",
        "print(C.issubset(A))\t\t# False\n",
        "print(C.issubset(B))\t\t# True\n",
        "print(B.issubset(C))\t\t# False\n"
      ],
      "metadata": {
        "colab": {
          "base_uri": "https://localhost:8080/"
        },
        "id": "JG6TCSLmWHWw",
        "outputId": "b0f47d51-dd3b-4a3d-dee9-e62824cd86ac"
      },
      "execution_count": 34,
      "outputs": [
        {
          "output_type": "stream",
          "name": "stdout",
          "text": [
            "False\n",
            "True\n",
            "False\n"
          ]
        }
      ]
    },
    {
      "cell_type": "code",
      "source": [
        "A = {4, 3, 1, 2}\n",
        "B = {3, 6, 5, 4}\n",
        "C = {5, 6}\n",
        "print(C.issuperset(A))\t\t# False\n",
        "print(C.issuperset(B))\t\t# False\n",
        "print(B.issuperset(C))\t\t# True\n"
      ],
      "metadata": {
        "id": "i5AL1QlyWpdI"
      },
      "execution_count": null,
      "outputs": []
    },
    {
      "cell_type": "code",
      "source": [
        "A = {4, 3, 1, 2}\n",
        "B = {3, 6, 5, 4}\n",
        "C = A.difference(B)\n",
        "D = B.difference(A)\n",
        "\n",
        "print(C)\t\t# {1, 2}\n",
        "print(D)\t\t# {5, 6}\n",
        "C = A.symmetric_difference(B)\n",
        "D = B.symmetric_difference(A)\n",
        "print(C)\t\t# {1, 2, 5, 6}\n",
        "print(D)\t\t# {1, 2, 5, 6}\n",
        "\n"
      ],
      "metadata": {
        "id": "deJfkbcyXMAP"
      },
      "execution_count": null,
      "outputs": []
    },
    {
      "cell_type": "code",
      "source": [
        "s = 'Hello! My firends!'\n",
        "#print(s.index('My'))\n",
        "#print(s.index('my')) # Error!\n",
        "print(s.index('!'))\n",
        "print(s.index('!', s.index('!') + 1))\n"
      ],
      "metadata": {
        "colab": {
          "base_uri": "https://localhost:8080/"
        },
        "id": "dJNPtTgwYbXk",
        "outputId": "0c545ba7-c26d-4f42-b21c-715a250c2835"
      },
      "execution_count": 43,
      "outputs": [
        {
          "output_type": "stream",
          "name": "stdout",
          "text": [
            "5\n",
            "17\n"
          ]
        }
      ]
    },
    {
      "cell_type": "code",
      "source": [
        "s = 'Hello! My firends!fire!!!!firends!!firends.'\n",
        "#print(s.index('My'))\n",
        "#print(s.index('my')) # Error!\n",
        "#print(s.index('!'))\n",
        "k = 0\n",
        "while k < len(s):\n",
        "  sk = s[k:]\n",
        "  if '!' in sk:\n",
        "    k += sk.index('!')\n",
        "    print(k)\n",
        "    k += 1\n",
        "  else:\n",
        "    break\n",
        "  # try, except\n",
        "\n",
        "'''\n",
        "k = s.index('!') + 1\n",
        "sk = s[k:]\n",
        "print(k, sk)\n",
        "if '!' in sk:\n",
        "  print(k + sk.index('!'))\n",
        "'''"
      ],
      "metadata": {
        "colab": {
          "base_uri": "https://localhost:8080/",
          "height": 194
        },
        "id": "gqvrmo30YdcN",
        "outputId": "028920f3-8a32-4a67-d352-b68cb652a556"
      },
      "execution_count": 54,
      "outputs": [
        {
          "output_type": "stream",
          "name": "stdout",
          "text": [
            "5\n",
            "17\n",
            "22\n",
            "23\n",
            "24\n",
            "25\n",
            "33\n",
            "34\n"
          ]
        },
        {
          "output_type": "execute_result",
          "data": {
            "text/plain": [
              "\"\\nk = s.index('!') + 1\\nsk = s[k:]\\nprint(k, sk)\\nif '!' in sk:\\n  print(k + sk.index('!'))\\n\""
            ],
            "application/vnd.google.colaboratory.intrinsic+json": {
              "type": "string"
            }
          },
          "metadata": {},
          "execution_count": 54
        }
      ]
    },
    {
      "cell_type": "code",
      "source": [],
      "metadata": {
        "id": "BO2VFDc-dbCz"
      },
      "execution_count": null,
      "outputs": []
    },
    {
      "cell_type": "code",
      "source": [
        "s1 = 'How       do \\t\\t\\t\\t \\n\\n\\n\\\n",
        "you          do\\t\\t\\t\\t who       are \\n\\n\\n\\\n",
        "you'\n",
        "# white space:\n",
        "# space bar, tab, enter\n",
        "A = s1.split()\n",
        "print(type(A), len(A))\n",
        "print(A)"
      ],
      "metadata": {
        "colab": {
          "base_uri": "https://localhost:8080/"
        },
        "id": "vyV7PMNpZ232",
        "outputId": "467cdfef-4161-4ffe-cd2e-27fd9afcf583"
      },
      "execution_count": 57,
      "outputs": [
        {
          "output_type": "stream",
          "name": "stdout",
          "text": [
            "<class 'list'> 7\n",
            "['How', 'do', 'you', 'do', 'who', 'are', 'you']\n"
          ]
        }
      ]
    },
    {
      "cell_type": "code",
      "source": [],
      "metadata": {
        "id": "Js8Rav4whM7N"
      },
      "execution_count": null,
      "outputs": []
    },
    {
      "cell_type": "code",
      "source": [
        "s = 'aaa*bbb*ccc eee fff*ggg '\n",
        "#L1 = s.split(sep = '*')\n",
        "#L2 = s.split(sep = ' ')\n",
        "L3 = s.split(sep = '*', maxsplit = 2)\n",
        "#print(L1) # ['aaa', 'bbb', 'ccc eee fff', 'ggg ']\n",
        "#print(L2) # ['aaa*bbb*ccc', 'eee', 'fff*ggg', '']\n",
        "print(L3) # ['aaa', 'bbb', 'ccc eee fff*ggg ']\n"
      ],
      "metadata": {
        "colab": {
          "base_uri": "https://localhost:8080/"
        },
        "id": "YILi942TdBwf",
        "outputId": "194a11b5-104d-49de-9d98-71654384b979"
      },
      "execution_count": 59,
      "outputs": [
        {
          "output_type": "stream",
          "name": "stdout",
          "text": [
            "['aaa*bbb*ccc', 'eee', 'fff*ggg', '']\n"
          ]
        }
      ]
    },
    {
      "cell_type": "code",
      "source": [
        "s = 'aaa*bbb**ccc***eee'\n",
        "L = s.split(sep = '*')\n",
        "print(L) # ['aaa', 'bbb', '', 'ccc', '', '', 'eee']\n"
      ],
      "metadata": {
        "colab": {
          "base_uri": "https://localhost:8080/"
        },
        "id": "PxvOCipZd5MH",
        "outputId": "4463f879-68ba-4261-f86b-5228e804577a"
      },
      "execution_count": 60,
      "outputs": [
        {
          "output_type": "stream",
          "name": "stdout",
          "text": [
            "['aaa', 'bbb', '', 'ccc', '', '', 'eee']\n"
          ]
        }
      ]
    },
    {
      "cell_type": "code",
      "source": [
        "s = 'aaa*bbb*ccc eee fff*ggg '\n",
        "A = s.split(sep= '* ')\n",
        "print(A)\n",
        "\n"
      ],
      "metadata": {
        "colab": {
          "base_uri": "https://localhost:8080/"
        },
        "id": "s64FXooje2Xm",
        "outputId": "ef8fb10e-5e44-4cd4-e349-d4a19138f581"
      },
      "execution_count": 61,
      "outputs": [
        {
          "output_type": "stream",
          "name": "stdout",
          "text": [
            "['aaa*bbb*ccc eee fff*ggg ']\n"
          ]
        }
      ]
    },
    {
      "cell_type": "code",
      "source": [
        "import re # regular expression\n",
        "s = 'aaa*bbb*ccc eee fff*ggg '\n",
        "A = re.split('\\*| ', s) # |: or; *:multiplication\n",
        "print(A)"
      ],
      "metadata": {
        "colab": {
          "base_uri": "https://localhost:8080/"
        },
        "id": "x7Z2jqwAfThb",
        "outputId": "a16ce4fd-2eee-4472-b37e-f057177d771b"
      },
      "execution_count": 63,
      "outputs": [
        {
          "output_type": "stream",
          "name": "stdout",
          "text": [
            "['aaa', 'bbb', 'ccc', 'eee', 'fff', 'ggg', '']\n"
          ]
        }
      ]
    },
    {
      "cell_type": "code",
      "source": [],
      "metadata": {
        "id": "7AErJKQPgPwD"
      },
      "execution_count": null,
      "outputs": []
    }
  ]
}