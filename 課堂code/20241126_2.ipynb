{
  "nbformat": 4,
  "nbformat_minor": 0,
  "metadata": {
    "colab": {
      "provenance": []
    },
    "kernelspec": {
      "name": "python3",
      "display_name": "Python 3"
    },
    "language_info": {
      "name": "python"
    }
  },
  "cells": [
    {
      "cell_type": "code",
      "execution_count": 4,
      "metadata": {
        "colab": {
          "base_uri": "https://localhost:8080/"
        },
        "id": "4Sy_FOu-kbVe",
        "outputId": "e7c36282-dcdd-490a-b806-4c1de5662857"
      },
      "outputs": [
        {
          "output_type": "stream",
          "name": "stdout",
          "text": [
            "A\n",
            "B\n",
            "0 1\n",
            "1 3\n",
            "2 2\n",
            "3 5\n"
          ]
        }
      ],
      "source": [
        "import JamesCheng\n",
        "lv = JamesCheng.score_level(90)\n",
        "print(lv)\n",
        "lv = JamesCheng.score_level(88)\n",
        "print(lv)\n",
        "\n",
        "L1 = [1, 3, 2, 5]\n",
        "JamesCheng.print_list(L1)"
      ]
    },
    {
      "cell_type": "code",
      "source": [
        "import JamesCheng as J\n",
        "lv = J.score_level(90)\n",
        "print(lv)\n",
        "lv = J.score_level(88)\n",
        "print(lv)\n",
        "\n",
        "L1 = [1, 3, 2, 5]\n",
        "J.print_list(L1)"
      ],
      "metadata": {
        "colab": {
          "base_uri": "https://localhost:8080/"
        },
        "id": "wfxC3LvMk5xO",
        "outputId": "1ffcca41-5023-4433-df7f-64fb37c36fa9"
      },
      "execution_count": 5,
      "outputs": [
        {
          "output_type": "stream",
          "name": "stdout",
          "text": [
            "A\n",
            "B\n",
            "0 1\n",
            "1 3\n",
            "2 2\n",
            "3 5\n"
          ]
        }
      ]
    },
    {
      "cell_type": "code",
      "source": [
        "from JamesCheng import score_level, print_list\n",
        "lv = score_level(90)\n",
        "print(lv)\n",
        "lv = score_level(88)\n",
        "print(lv)\n",
        "\n",
        "L1 = [1, 3, 2, 5]\n",
        "print_list(L1)"
      ],
      "metadata": {
        "colab": {
          "base_uri": "https://localhost:8080/"
        },
        "id": "mSfzLH5elrLw",
        "outputId": "dc092035-c4f9-40e0-c47d-f8fe3b3dcb5a"
      },
      "execution_count": 6,
      "outputs": [
        {
          "output_type": "stream",
          "name": "stdout",
          "text": [
            "A\n",
            "B\n",
            "0 1\n",
            "1 3\n",
            "2 2\n",
            "3 5\n"
          ]
        }
      ]
    },
    {
      "cell_type": "code",
      "source": [],
      "metadata": {
        "id": "u6QlLUTil2lT"
      },
      "execution_count": null,
      "outputs": []
    }
  ]
}